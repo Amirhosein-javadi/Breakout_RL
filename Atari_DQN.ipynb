{
  "cells": [
    {
      "cell_type": "markdown",
      "id": "56cf3ed9",
      "metadata": {
        "id": "56cf3ed9"
      },
      "source": [
        "<div align=center>\n",
        "\t\t\n",
        "<p></p>\n",
        "<p></p>\n",
        "<font size=5>\n",
        "In the Name of God\n",
        "<font/>\n",
        "<p></p>\n",
        " <br/>\n",
        "    <br/>\n",
        "    <br/>\n",
        "<font color=#FF7500>\n",
        "Sharif University of Technology - Departmenet of Computer Engineering\n",
        "</font>\n",
        "<p></p>\n",
        "<font color=blue>\n",
        "Artifical Intelligence - Dr. Mohammad Hossein Rohban\n",
        "</font>\n",
        "<br/>\n",
        "<br/>\n",
        "Fall 2021\n",
        "\n",
        "</div>\n",
        "\n",
        "<hr/>\n",
        "\t\t<div align=center>\n",
        "\t\t    <font color=red size=6>\n",
        "\t\t\t    <br />\n",
        "Practical Assignment 5-Q2\n",
        "            \t<br/>\n",
        "\t\t\t</font>\n",
        "    <br/>\n",
        "    <br/>\n",
        "<font size=4>\n",
        "\t\t\t<br/><br/>\n",
        "Deadline:  Bahman 17th\n",
        "                <br/><b>\n",
        "              Cheating is Strongly Prohibited\n",
        "                </b><br/><br/>\n",
        "                <font color=red>\n",
        "Please run all the cells.\n",
        "     </font>\n",
        "</font>\n",
        "                <br/>\n",
        "    </div>"
      ]
    },
    {
      "cell_type": "markdown",
      "id": "f00402a1",
      "metadata": {
        "id": "f00402a1"
      },
      "source": [
        "# Personal Data\n"
      ]
    },
    {
      "cell_type": "code",
      "execution_count": 1,
      "id": "10c79f3a",
      "metadata": {
        "id": "10c79f3a"
      },
      "outputs": [],
      "source": [
        "# Set your student number\n",
        "student_number = 97101489\n",
        "Name = 'Amirhosein'\n",
        "Last_Name = 'Javadi'"
      ]
    },
    {
      "cell_type": "code",
      "source": [
        "from google.colab import drive\n",
        "drive.mount('/content/drive')"
      ],
      "metadata": {
        "colab": {
          "base_uri": "https://localhost:8080/"
        },
        "id": "60F6OrzPM_lW",
        "outputId": "b65b2a7b-52ee-436d-fbf0-2593cd70af46"
      },
      "id": "60F6OrzPM_lW",
      "execution_count": 2,
      "outputs": [
        {
          "output_type": "stream",
          "name": "stdout",
          "text": [
            "Drive already mounted at /content/drive; to attempt to forcibly remount, call drive.mount(\"/content/drive\", force_remount=True).\n"
          ]
        }
      ]
    },
    {
      "cell_type": "code",
      "source": [
        "!unzip /content/Q2.zip"
      ],
      "metadata": {
        "colab": {
          "base_uri": "https://localhost:8080/"
        },
        "id": "_H_EBmYqQoKU",
        "outputId": "36ae2bc1-957e-4b36-833a-d56fddc90f00"
      },
      "id": "_H_EBmYqQoKU",
      "execution_count": 3,
      "outputs": [
        {
          "output_type": "stream",
          "name": "stdout",
          "text": [
            "Archive:  /content/Q2.zip\n",
            "replace .ipynb_checkpoints/Atari_DQN-checkpoint.ipynb? [y]es, [n]o, [A]ll, [N]one, [r]ename: "
          ]
        }
      ]
    },
    {
      "cell_type": "markdown",
      "id": "68003dd5",
      "metadata": {
        "id": "68003dd5"
      },
      "source": [
        "# Rules\n",
        "- You are not allowed to use provided codes that can be found on the internet. \n",
        "- If you want to use a library which is not already imported, you must ask a question on Quera to get the permission of using that.\n",
        "- Do not hesitate to ask questions on Quera, if you have any.\n",
        "- This assignment is due Bahman 17th 23:59:59. you can use up to 1 grace day for this assignment and the hard deadline is Bahman 18th 23:59:59."
      ]
    },
    {
      "cell_type": "markdown",
      "id": "4a58d6af",
      "metadata": {
        "id": "4a58d6af"
      },
      "source": [
        "# Mastering Atari Games using Deep Reinforcement Learning\n",
        "\n",
        "In this assignment, you will learn how to implement a Deep-Q-Network (DQN), and to demonstrate that, you may implement and train a DQN and run it on an Atari game in **OpenAI-Gym** environment. Additionally, you may also want to refer to the [original paper](https://arxiv.org/pdf/1312.5602.pdf) regarding the usage of DQN in Atari networks.\n",
        "\n",
        "For this assignment, you will have two options to choose from:\n",
        "* **Breakout**: A famous Atari game that is a staple for learning deep q networks. This game is already available in the gym library environment. By solving this completely you will receive 100/100 points.\n",
        "* **Shoot-N-Dodge**: This is another Atari game that has been developed for the sole reason of this particular assignment. The game involves a spaceship with guns and a bunch of meteors coming your way! For those of you who are up for the challenge, you may run your DQN on this game and receive **extra points**. By implementing and training a network capable of solving this custom game you will receive 150/100 points with 50 points being extra.\n",
        "\n",
        "In the following, you can read the description of the games and how to start running it. We advise using either `Google-Colab` or `Kaggle` for training the model as DQN models usually take a lot of time to train.\n",
        "\n",
        "Before we start, make sure to install and import the following packages:"
      ]
    },
    {
      "cell_type": "code",
      "execution_count": 4,
      "id": "2d46bde2",
      "metadata": {
        "id": "2d46bde2",
        "colab": {
          "base_uri": "https://localhost:8080/"
        },
        "outputId": "4080916b-d14c-4db4-b0d0-2becd6601777"
      },
      "outputs": [
        {
          "output_type": "stream",
          "name": "stdout",
          "text": [
            "Requirement already satisfied: gym in /usr/local/lib/python3.7/dist-packages (0.17.3)\n",
            "Requirement already satisfied: cloudpickle<1.7.0,>=1.2.0 in /usr/local/lib/python3.7/dist-packages (from gym) (1.3.0)\n",
            "Requirement already satisfied: numpy>=1.10.4 in /usr/local/lib/python3.7/dist-packages (from gym) (1.19.5)\n",
            "Requirement already satisfied: pyglet<=1.5.0,>=1.4.0 in /usr/local/lib/python3.7/dist-packages (from gym) (1.5.0)\n",
            "Requirement already satisfied: scipy in /usr/local/lib/python3.7/dist-packages (from gym) (1.4.1)\n",
            "Requirement already satisfied: future in /usr/local/lib/python3.7/dist-packages (from pyglet<=1.5.0,>=1.4.0->gym) (0.16.0)\n",
            "Requirement already satisfied: opencv-python in /usr/local/lib/python3.7/dist-packages (4.1.2.30)\n",
            "Requirement already satisfied: numpy>=1.14.5 in /usr/local/lib/python3.7/dist-packages (from opencv-python) (1.19.5)\n",
            "Requirement already satisfied: pillow in /usr/local/lib/python3.7/dist-packages (7.1.2)\n",
            "Requirement already satisfied: numpy in /usr/local/lib/python3.7/dist-packages (1.19.5)\n",
            "Requirement already satisfied: matplotlib in /usr/local/lib/python3.7/dist-packages (3.2.2)\n",
            "Requirement already satisfied: numpy>=1.11 in /usr/local/lib/python3.7/dist-packages (from matplotlib) (1.19.5)\n",
            "Requirement already satisfied: kiwisolver>=1.0.1 in /usr/local/lib/python3.7/dist-packages (from matplotlib) (1.3.2)\n",
            "Requirement already satisfied: python-dateutil>=2.1 in /usr/local/lib/python3.7/dist-packages (from matplotlib) (2.8.2)\n",
            "Requirement already satisfied: cycler>=0.10 in /usr/local/lib/python3.7/dist-packages (from matplotlib) (0.11.0)\n",
            "Requirement already satisfied: pyparsing!=2.0.4,!=2.1.2,!=2.1.6,>=2.0.1 in /usr/local/lib/python3.7/dist-packages (from matplotlib) (3.0.7)\n",
            "Requirement already satisfied: six>=1.5 in /usr/local/lib/python3.7/dist-packages (from python-dateutil>=2.1->matplotlib) (1.15.0)\n",
            "Requirement already satisfied: torch in /usr/local/lib/python3.7/dist-packages (1.10.0+cu111)\n",
            "Requirement already satisfied: typing-extensions in /usr/local/lib/python3.7/dist-packages (from torch) (3.10.0.2)\n",
            "Requirement already satisfied: psutil in /usr/local/lib/python3.7/dist-packages (5.4.8)\n",
            "Requirement already satisfied: array2gif in /usr/local/lib/python3.7/dist-packages (1.0.4)\n",
            "Requirement already satisfied: numpy in /usr/local/lib/python3.7/dist-packages (from array2gif) (1.19.5)\n"
          ]
        }
      ],
      "source": [
        "!pip install gym\n",
        "!pip install opencv-python\n",
        "!pip install pillow\n",
        "!pip install numpy\n",
        "!pip install matplotlib\n",
        "!pip install torch\n",
        "!pip install psutil\n",
        "!pip install array2gif"
      ]
    },
    {
      "cell_type": "code",
      "execution_count": 5,
      "id": "2ea4a50d",
      "metadata": {
        "id": "2ea4a50d"
      },
      "outputs": [],
      "source": [
        "import gym\n",
        "import numpy as np\n",
        "import pandas as pd\n",
        "import matplotlib.pyplot as plt\n",
        "import time\n",
        "from IPython.display import clear_output\n",
        "\n",
        "%matplotlib inline"
      ]
    },
    {
      "cell_type": "code",
      "execution_count": 6,
      "id": "452677bd",
      "metadata": {
        "id": "452677bd",
        "colab": {
          "base_uri": "https://localhost:8080/"
        },
        "outputId": "aca3087f-9ba0-418d-b7c4-75bcdc074283"
      },
      "outputs": [
        {
          "output_type": "execute_result",
          "data": {
            "text/plain": [
              "device(type='cuda')"
            ]
          },
          "metadata": {},
          "execution_count": 6
        }
      ],
      "source": [
        "# Deep Learning requirements\n",
        "### make sure to use gpu for this assignment\n",
        "import torch\n",
        "import torch.nn as nn\n",
        "device = torch.device('cuda' if torch.cuda.is_available() else 'cpu')\n",
        "device"
      ]
    },
    {
      "cell_type": "markdown",
      "id": "bf742a67",
      "metadata": {
        "id": "bf742a67"
      },
      "source": [
        "As alluded, we will use the `gym` framework to simulate our game."
      ]
    },
    {
      "cell_type": "markdown",
      "id": "0f7a8ba5",
      "metadata": {
        "id": "0f7a8ba5"
      },
      "source": [
        "## Option 1: Breakout (60 points)\n",
        "\n",
        "The famous game [Breakout](https://en.wikipedia.org/wiki/Breakout_(video_game)) involves a paddle and bricks. It is one of the games in which DQNs have proven to work very good on. \n",
        "\n",
        "<img src=\"figs/nerd.png\" width=400 height=400 />"
      ]
    },
    {
      "cell_type": "code",
      "execution_count": 7,
      "id": "dfb9d1e2",
      "metadata": {
        "id": "dfb9d1e2"
      },
      "outputs": [],
      "source": [
        "# Run this block if you intend to implement the breakout option\n",
        "\n",
        "ENV_NAME = \"BreakoutNoFrameskip-v4\""
      ]
    },
    {
      "cell_type": "markdown",
      "id": "a091fa47",
      "metadata": {
        "id": "a091fa47"
      },
      "source": [
        "## Option 2: Shoot-N-Dodge (60+30 points)"
      ]
    },
    {
      "cell_type": "markdown",
      "id": "5b7eda9f",
      "metadata": {
        "id": "5b7eda9f"
      },
      "source": [
        "In this game you control a space ship that shoots bullets. At each frame, you may either move up, down, or stay still. Every once in a while some meteors colored in red show up at random at the other end of the screen and you should avoid or destroy them. If either one of these meteors hits you, you will die!\n",
        "\n",
        "To destroy the meteors, you have to shoot them three times and each time you shoot them their color changes until they disappear. They change color from red to orange to yellow and then they are gone.\n",
        "\n",
        "<img src=\"figs/shoot-n-dodge.jpg\" width=430 height=420 />"
      ]
    },
    {
      "cell_type": "code",
      "execution_count": 9,
      "id": "e820c808",
      "metadata": {
        "id": "e820c808"
      },
      "outputs": [],
      "source": [
        "# Run this block if you intend to implement the ShootNDodge option\n",
        "\n",
        "ENV_NAME = 'shootndodge-v0'"
      ]
    },
    {
      "cell_type": "markdown",
      "id": "7ea975a6",
      "metadata": {
        "id": "7ea975a6"
      },
      "source": [
        "\n",
        "### Installing the game\n"
      ]
    },
    {
      "cell_type": "markdown",
      "id": "d3799488",
      "metadata": {
        "id": "d3799488"
      },
      "source": [
        "#### Breakout\n",
        "\n",
        "In order to install Breakout on your environment, please execute the following code. "
      ]
    },
    {
      "cell_type": "code",
      "execution_count": 8,
      "id": "fdd4eb07",
      "metadata": {
        "id": "fdd4eb07",
        "colab": {
          "base_uri": "https://localhost:8080/"
        },
        "outputId": "3a2f3442-5c1f-41da-8165-44838ed1a239"
      },
      "outputs": [
        {
          "output_type": "stream",
          "name": "stdout",
          "text": [
            "Requirement already satisfied: stable-baselines3[extra] in /usr/local/lib/python3.7/dist-packages (1.4.0)\n",
            "Requirement already satisfied: pyvirtualdisplay in /usr/local/lib/python3.7/dist-packages (2.2)\n",
            "Requirement already satisfied: gym[atari] in /usr/local/lib/python3.7/dist-packages (0.17.3)\n",
            "Requirement already satisfied: pyglet in /usr/local/lib/python3.7/dist-packages (1.5.0)\n",
            "Requirement already satisfied: EasyProcess in /usr/local/lib/python3.7/dist-packages (from pyvirtualdisplay) (1.1)\n",
            "Requirement already satisfied: future in /usr/local/lib/python3.7/dist-packages (from pyglet) (0.16.0)\n",
            "Requirement already satisfied: cloudpickle<1.7.0,>=1.2.0 in /usr/local/lib/python3.7/dist-packages (from gym[atari]) (1.3.0)\n",
            "Requirement already satisfied: numpy>=1.10.4 in /usr/local/lib/python3.7/dist-packages (from gym[atari]) (1.19.5)\n",
            "Requirement already satisfied: scipy in /usr/local/lib/python3.7/dist-packages (from gym[atari]) (1.4.1)\n",
            "Requirement already satisfied: Pillow in /usr/local/lib/python3.7/dist-packages (from gym[atari]) (7.1.2)\n",
            "Requirement already satisfied: opencv-python in /usr/local/lib/python3.7/dist-packages (from gym[atari]) (4.1.2.30)\n",
            "Requirement already satisfied: atari-py~=0.2.0 in /usr/local/lib/python3.7/dist-packages (from gym[atari]) (0.2.6)\n",
            "Requirement already satisfied: six in /usr/local/lib/python3.7/dist-packages (from atari-py~=0.2.0->gym[atari]) (1.15.0)\n",
            "Requirement already satisfied: pandas in /usr/local/lib/python3.7/dist-packages (from stable-baselines3[extra]) (1.3.5)\n",
            "Requirement already satisfied: torch>=1.8.1 in /usr/local/lib/python3.7/dist-packages (from stable-baselines3[extra]) (1.10.0+cu111)\n",
            "Requirement already satisfied: matplotlib in /usr/local/lib/python3.7/dist-packages (from stable-baselines3[extra]) (3.2.2)\n",
            "Requirement already satisfied: psutil in /usr/local/lib/python3.7/dist-packages (from stable-baselines3[extra]) (5.4.8)\n",
            "Requirement already satisfied: tensorboard>=2.2.0 in /usr/local/lib/python3.7/dist-packages (from stable-baselines3[extra]) (2.7.0)\n",
            "Requirement already satisfied: google-auth-oauthlib<0.5,>=0.4.1 in /usr/local/lib/python3.7/dist-packages (from tensorboard>=2.2.0->stable-baselines3[extra]) (0.4.6)\n",
            "Requirement already satisfied: protobuf>=3.6.0 in /usr/local/lib/python3.7/dist-packages (from tensorboard>=2.2.0->stable-baselines3[extra]) (3.17.3)\n",
            "Requirement already satisfied: werkzeug>=0.11.15 in /usr/local/lib/python3.7/dist-packages (from tensorboard>=2.2.0->stable-baselines3[extra]) (1.0.1)\n",
            "Requirement already satisfied: setuptools>=41.0.0 in /usr/local/lib/python3.7/dist-packages (from tensorboard>=2.2.0->stable-baselines3[extra]) (57.4.0)\n",
            "Requirement already satisfied: wheel>=0.26 in /usr/local/lib/python3.7/dist-packages (from tensorboard>=2.2.0->stable-baselines3[extra]) (0.37.1)\n",
            "Requirement already satisfied: requests<3,>=2.21.0 in /usr/local/lib/python3.7/dist-packages (from tensorboard>=2.2.0->stable-baselines3[extra]) (2.23.0)\n",
            "Requirement already satisfied: markdown>=2.6.8 in /usr/local/lib/python3.7/dist-packages (from tensorboard>=2.2.0->stable-baselines3[extra]) (3.3.6)\n",
            "Requirement already satisfied: absl-py>=0.4 in /usr/local/lib/python3.7/dist-packages (from tensorboard>=2.2.0->stable-baselines3[extra]) (1.0.0)\n",
            "Requirement already satisfied: tensorboard-plugin-wit>=1.6.0 in /usr/local/lib/python3.7/dist-packages (from tensorboard>=2.2.0->stable-baselines3[extra]) (1.8.1)\n",
            "Requirement already satisfied: google-auth<3,>=1.6.3 in /usr/local/lib/python3.7/dist-packages (from tensorboard>=2.2.0->stable-baselines3[extra]) (1.35.0)\n",
            "Requirement already satisfied: grpcio>=1.24.3 in /usr/local/lib/python3.7/dist-packages (from tensorboard>=2.2.0->stable-baselines3[extra]) (1.43.0)\n",
            "Requirement already satisfied: tensorboard-data-server<0.7.0,>=0.6.0 in /usr/local/lib/python3.7/dist-packages (from tensorboard>=2.2.0->stable-baselines3[extra]) (0.6.1)\n",
            "Requirement already satisfied: pyasn1-modules>=0.2.1 in /usr/local/lib/python3.7/dist-packages (from google-auth<3,>=1.6.3->tensorboard>=2.2.0->stable-baselines3[extra]) (0.2.8)\n",
            "Requirement already satisfied: cachetools<5.0,>=2.0.0 in /usr/local/lib/python3.7/dist-packages (from google-auth<3,>=1.6.3->tensorboard>=2.2.0->stable-baselines3[extra]) (4.2.4)\n",
            "Requirement already satisfied: rsa<5,>=3.1.4 in /usr/local/lib/python3.7/dist-packages (from google-auth<3,>=1.6.3->tensorboard>=2.2.0->stable-baselines3[extra]) (4.8)\n",
            "Requirement already satisfied: requests-oauthlib>=0.7.0 in /usr/local/lib/python3.7/dist-packages (from google-auth-oauthlib<0.5,>=0.4.1->tensorboard>=2.2.0->stable-baselines3[extra]) (1.3.1)\n",
            "Requirement already satisfied: importlib-metadata>=4.4 in /usr/local/lib/python3.7/dist-packages (from markdown>=2.6.8->tensorboard>=2.2.0->stable-baselines3[extra]) (4.10.1)\n",
            "Requirement already satisfied: typing-extensions>=3.6.4 in /usr/local/lib/python3.7/dist-packages (from importlib-metadata>=4.4->markdown>=2.6.8->tensorboard>=2.2.0->stable-baselines3[extra]) (3.10.0.2)\n",
            "Requirement already satisfied: zipp>=0.5 in /usr/local/lib/python3.7/dist-packages (from importlib-metadata>=4.4->markdown>=2.6.8->tensorboard>=2.2.0->stable-baselines3[extra]) (3.7.0)\n",
            "Requirement already satisfied: pyasn1<0.5.0,>=0.4.6 in /usr/local/lib/python3.7/dist-packages (from pyasn1-modules>=0.2.1->google-auth<3,>=1.6.3->tensorboard>=2.2.0->stable-baselines3[extra]) (0.4.8)\n",
            "Requirement already satisfied: chardet<4,>=3.0.2 in /usr/local/lib/python3.7/dist-packages (from requests<3,>=2.21.0->tensorboard>=2.2.0->stable-baselines3[extra]) (3.0.4)\n",
            "Requirement already satisfied: certifi>=2017.4.17 in /usr/local/lib/python3.7/dist-packages (from requests<3,>=2.21.0->tensorboard>=2.2.0->stable-baselines3[extra]) (2021.10.8)\n",
            "Requirement already satisfied: idna<3,>=2.5 in /usr/local/lib/python3.7/dist-packages (from requests<3,>=2.21.0->tensorboard>=2.2.0->stable-baselines3[extra]) (2.10)\n",
            "Requirement already satisfied: urllib3!=1.25.0,!=1.25.1,<1.26,>=1.21.1 in /usr/local/lib/python3.7/dist-packages (from requests<3,>=2.21.0->tensorboard>=2.2.0->stable-baselines3[extra]) (1.24.3)\n",
            "Requirement already satisfied: oauthlib>=3.0.0 in /usr/local/lib/python3.7/dist-packages (from requests-oauthlib>=0.7.0->google-auth-oauthlib<0.5,>=0.4.1->tensorboard>=2.2.0->stable-baselines3[extra]) (3.2.0)\n",
            "Requirement already satisfied: pyparsing!=2.0.4,!=2.1.2,!=2.1.6,>=2.0.1 in /usr/local/lib/python3.7/dist-packages (from matplotlib->stable-baselines3[extra]) (3.0.7)\n",
            "Requirement already satisfied: kiwisolver>=1.0.1 in /usr/local/lib/python3.7/dist-packages (from matplotlib->stable-baselines3[extra]) (1.3.2)\n",
            "Requirement already satisfied: cycler>=0.10 in /usr/local/lib/python3.7/dist-packages (from matplotlib->stable-baselines3[extra]) (0.11.0)\n",
            "Requirement already satisfied: python-dateutil>=2.1 in /usr/local/lib/python3.7/dist-packages (from matplotlib->stable-baselines3[extra]) (2.8.2)\n",
            "Requirement already satisfied: pytz>=2017.3 in /usr/local/lib/python3.7/dist-packages (from pandas->stable-baselines3[extra]) (2018.9)\n",
            "Reading package lists... Done\n",
            "Building dependency tree       \n",
            "Reading state information... Done\n",
            "python-opengl is already the newest version (3.1.0+dfsg-1).\n",
            "The following packages were automatically installed and are no longer required:\n",
            "  cuda-command-line-tools-10-0 cuda-command-line-tools-10-1\n",
            "  cuda-command-line-tools-11-0 cuda-compiler-10-0 cuda-compiler-10-1\n",
            "  cuda-compiler-11-0 cuda-cuobjdump-10-0 cuda-cuobjdump-10-1\n",
            "  cuda-cuobjdump-11-0 cuda-cupti-10-0 cuda-cupti-10-1 cuda-cupti-11-0\n",
            "  cuda-cupti-dev-11-0 cuda-documentation-10-0 cuda-documentation-10-1\n",
            "  cuda-documentation-11-0 cuda-documentation-11-1 cuda-gdb-10-0 cuda-gdb-10-1\n",
            "  cuda-gdb-11-0 cuda-gpu-library-advisor-10-0 cuda-gpu-library-advisor-10-1\n",
            "  cuda-libraries-10-0 cuda-libraries-10-1 cuda-libraries-11-0\n",
            "  cuda-memcheck-10-0 cuda-memcheck-10-1 cuda-memcheck-11-0 cuda-nsight-10-0\n",
            "  cuda-nsight-10-1 cuda-nsight-11-0 cuda-nsight-11-1 cuda-nsight-compute-10-0\n",
            "  cuda-nsight-compute-10-1 cuda-nsight-compute-11-0 cuda-nsight-compute-11-1\n",
            "  cuda-nsight-systems-10-1 cuda-nsight-systems-11-0 cuda-nsight-systems-11-1\n",
            "  cuda-nvcc-10-0 cuda-nvcc-10-1 cuda-nvcc-11-0 cuda-nvdisasm-10-0\n",
            "  cuda-nvdisasm-10-1 cuda-nvdisasm-11-0 cuda-nvml-dev-10-0 cuda-nvml-dev-10-1\n",
            "  cuda-nvml-dev-11-0 cuda-nvprof-10-0 cuda-nvprof-10-1 cuda-nvprof-11-0\n",
            "  cuda-nvprune-10-0 cuda-nvprune-10-1 cuda-nvprune-11-0 cuda-nvtx-10-0\n",
            "  cuda-nvtx-10-1 cuda-nvtx-11-0 cuda-nvvp-10-0 cuda-nvvp-10-1 cuda-nvvp-11-0\n",
            "  cuda-nvvp-11-1 cuda-samples-10-0 cuda-samples-10-1 cuda-samples-11-0\n",
            "  cuda-samples-11-1 cuda-sanitizer-11-0 cuda-sanitizer-api-10-1\n",
            "  cuda-toolkit-10-0 cuda-toolkit-10-1 cuda-toolkit-11-0 cuda-toolkit-11-1\n",
            "  cuda-tools-10-0 cuda-tools-10-1 cuda-tools-11-0 cuda-tools-11-1\n",
            "  cuda-visual-tools-10-0 cuda-visual-tools-10-1 cuda-visual-tools-11-0\n",
            "  cuda-visual-tools-11-1 default-jre dkms freeglut3-dev keyboard-configuration\n",
            "  libargon2-0 libcap2 libcryptsetup12 libdevmapper1.02.1 libfontenc1 libidn11\n",
            "  libip4tc0 libjansson4 libnvidia-cfg1-510 libnvidia-common-460\n",
            "  libnvidia-common-510 libnvidia-extra-510 libnvidia-fbc1-510 libnvidia-gl-510\n",
            "  libpam-systemd libpolkit-agent-1-0 libpolkit-backend-1-0\n",
            "  libpolkit-gobject-1-0 libxfont2 libxi-dev libxkbfile1 libxmu-dev\n",
            "  libxmu-headers libxnvctrl0 libxtst6 nsight-compute-2020.2.1\n",
            "  nsight-compute-2022.1.0 nsight-systems-2020.3.2 nsight-systems-2020.3.4\n",
            "  nsight-systems-2021.5.2 nvidia-dkms-510 nvidia-kernel-common-510\n",
            "  nvidia-kernel-source-510 nvidia-modprobe nvidia-settings openjdk-11-jre\n",
            "  policykit-1 policykit-1-gnome python3-xkit screen-resolution-extra systemd\n",
            "  systemd-sysv udev x11-xkb-utils xserver-common xserver-xorg-core-hwe-18.04\n",
            "  xserver-xorg-video-nvidia-510\n",
            "Use 'apt autoremove' to remove them.\n",
            "0 upgraded, 0 newly installed, 0 to remove and 39 not upgraded.\n",
            "Requirement already satisfied: atari-py in /usr/local/lib/python3.7/dist-packages (0.2.6)\n",
            "Requirement already satisfied: numpy in /usr/local/lib/python3.7/dist-packages (from atari-py) (1.19.5)\n",
            "Requirement already satisfied: six in /usr/local/lib/python3.7/dist-packages (from atari-py) (1.15.0)\n",
            "Reading package lists... Done\n",
            "Building dependency tree       \n",
            "Reading state information... Done\n",
            "unrar is already the newest version (1:5.5.8-1).\n",
            "The following packages were automatically installed and are no longer required:\n",
            "  cuda-command-line-tools-10-0 cuda-command-line-tools-10-1\n",
            "  cuda-command-line-tools-11-0 cuda-compiler-10-0 cuda-compiler-10-1\n",
            "  cuda-compiler-11-0 cuda-cuobjdump-10-0 cuda-cuobjdump-10-1\n",
            "  cuda-cuobjdump-11-0 cuda-cupti-10-0 cuda-cupti-10-1 cuda-cupti-11-0\n",
            "  cuda-cupti-dev-11-0 cuda-documentation-10-0 cuda-documentation-10-1\n",
            "  cuda-documentation-11-0 cuda-documentation-11-1 cuda-gdb-10-0 cuda-gdb-10-1\n",
            "  cuda-gdb-11-0 cuda-gpu-library-advisor-10-0 cuda-gpu-library-advisor-10-1\n",
            "  cuda-libraries-10-0 cuda-libraries-10-1 cuda-libraries-11-0\n",
            "  cuda-memcheck-10-0 cuda-memcheck-10-1 cuda-memcheck-11-0 cuda-nsight-10-0\n",
            "  cuda-nsight-10-1 cuda-nsight-11-0 cuda-nsight-11-1 cuda-nsight-compute-10-0\n",
            "  cuda-nsight-compute-10-1 cuda-nsight-compute-11-0 cuda-nsight-compute-11-1\n",
            "  cuda-nsight-systems-10-1 cuda-nsight-systems-11-0 cuda-nsight-systems-11-1\n",
            "  cuda-nvcc-10-0 cuda-nvcc-10-1 cuda-nvcc-11-0 cuda-nvdisasm-10-0\n",
            "  cuda-nvdisasm-10-1 cuda-nvdisasm-11-0 cuda-nvml-dev-10-0 cuda-nvml-dev-10-1\n",
            "  cuda-nvml-dev-11-0 cuda-nvprof-10-0 cuda-nvprof-10-1 cuda-nvprof-11-0\n",
            "  cuda-nvprune-10-0 cuda-nvprune-10-1 cuda-nvprune-11-0 cuda-nvtx-10-0\n",
            "  cuda-nvtx-10-1 cuda-nvtx-11-0 cuda-nvvp-10-0 cuda-nvvp-10-1 cuda-nvvp-11-0\n",
            "  cuda-nvvp-11-1 cuda-samples-10-0 cuda-samples-10-1 cuda-samples-11-0\n",
            "  cuda-samples-11-1 cuda-sanitizer-11-0 cuda-sanitizer-api-10-1\n",
            "  cuda-toolkit-10-0 cuda-toolkit-10-1 cuda-toolkit-11-0 cuda-toolkit-11-1\n",
            "  cuda-tools-10-0 cuda-tools-10-1 cuda-tools-11-0 cuda-tools-11-1\n",
            "  cuda-visual-tools-10-0 cuda-visual-tools-10-1 cuda-visual-tools-11-0\n",
            "  cuda-visual-tools-11-1 default-jre dkms freeglut3-dev keyboard-configuration\n",
            "  libargon2-0 libcap2 libcryptsetup12 libdevmapper1.02.1 libfontenc1 libidn11\n",
            "  libip4tc0 libjansson4 libnvidia-cfg1-510 libnvidia-common-460\n",
            "  libnvidia-common-510 libnvidia-extra-510 libnvidia-fbc1-510 libnvidia-gl-510\n",
            "  libpam-systemd libpolkit-agent-1-0 libpolkit-backend-1-0\n",
            "  libpolkit-gobject-1-0 libxfont2 libxi-dev libxkbfile1 libxmu-dev\n",
            "  libxmu-headers libxnvctrl0 libxtst6 nsight-compute-2020.2.1\n",
            "  nsight-compute-2022.1.0 nsight-systems-2020.3.2 nsight-systems-2020.3.4\n",
            "  nsight-systems-2021.5.2 nvidia-dkms-510 nvidia-kernel-common-510\n",
            "  nvidia-kernel-source-510 nvidia-modprobe nvidia-settings openjdk-11-jre\n",
            "  policykit-1 policykit-1-gnome python3-xkit screen-resolution-extra systemd\n",
            "  systemd-sysv udev x11-xkb-utils xserver-common xserver-xorg-core-hwe-18.04\n",
            "  xserver-xorg-video-nvidia-510\n",
            "Use 'apt autoremove' to remove them.\n",
            "0 upgraded, 0 newly installed, 0 to remove and 39 not upgraded.\n",
            "--2022-02-08 18:52:17--  http://www.atarimania.com/roms/Roms.rar\n",
            "Resolving www.atarimania.com (www.atarimania.com)... 195.154.81.199\n",
            "Connecting to www.atarimania.com (www.atarimania.com)|195.154.81.199|:80... connected.\n",
            "HTTP request sent, awaiting response... 200 OK\n",
            "Length: 11128004 (11M) [application/x-rar-compressed]\n",
            "Saving to: ‘Roms.rar.2’\n",
            "\n",
            "Roms.rar.2          100%[===================>]  10.61M   626KB/s    in 18s     \n",
            "\n",
            "2022-02-08 18:52:35 (604 KB/s) - ‘Roms.rar.2’ saved [11128004/11128004]\n",
            "\n",
            "\n",
            "UNRAR 5.50 freeware      Copyright (c) 1993-2017 Alexander Roshal\n",
            "\n",
            "\n",
            "Extracting from Roms.rar\n",
            "\n",
            "\n",
            "Would you like to replace the existing file HC ROMS.zip\n",
            "11826711 bytes, modified on 2019-12-22 11:24\n",
            "with a new one\n",
            "11826711 bytes, modified on 2019-12-22 11:24\n",
            "\n",
            "[Y]es, [N]o, [A]ll, n[E]ver, [R]ename, [Q]uit \n",
            "User break\n",
            "\n",
            "User break\n",
            "Archive:  ROMS.zip\n",
            "replace ROMS/128 in 1 Game Select ROM (128 in 1) (Unknown) ~.bin? [y]es, [n]o, [A]ll, [N]one, [r]ename: /usr/bin/python3: No module named atari_py.import_roms\n"
          ]
        }
      ],
      "source": [
        "\n",
        "!pip install stable-baselines3[extra] pyvirtualdisplay gym[atari] pyglet \n",
        "!apt-get install python-opengl -y\n",
        "!pip install atari-py\n",
        "!apt-get install unrar\n",
        "\n",
        "!wget http://www.atarimania.com/roms/Roms.rar \n",
        "!unrar x Roms.rar \n",
        "!unzip ROMS.zip\n",
        "!python -m atari_py.import_roms ROMS"
      ]
    },
    {
      "cell_type": "markdown",
      "id": "ba0b763c",
      "metadata": {
        "id": "ba0b763c"
      },
      "source": [
        "#### Shoot N Dodge\n",
        "The game is provided as a python package and can be run as an **OpenAI-Gym** environment. To do so, you will have to go to the setup folder and install the package on your python virtual environment."
      ]
    },
    {
      "cell_type": "code",
      "execution_count": 9,
      "id": "5a59e170",
      "metadata": {
        "id": "5a59e170",
        "colab": {
          "base_uri": "https://localhost:8080/"
        },
        "outputId": "e37bd12e-2bca-4378-935c-c00bf52fa895"
      },
      "outputs": [
        {
          "output_type": "stream",
          "name": "stdout",
          "text": [
            "Obtaining file:///content/gym-shootndodge\n",
            "Requirement already satisfied: gym in /usr/local/lib/python3.7/dist-packages (from gym-shootndodge==1.2) (0.17.3)\n",
            "Requirement already satisfied: opencv-python in /usr/local/lib/python3.7/dist-packages (from gym-shootndodge==1.2) (4.1.2.30)\n",
            "Requirement already satisfied: pillow in /usr/local/lib/python3.7/dist-packages (from gym-shootndodge==1.2) (7.1.2)\n",
            "Requirement already satisfied: numpy in /usr/local/lib/python3.7/dist-packages (from gym-shootndodge==1.2) (1.19.5)\n",
            "Requirement already satisfied: cloudpickle<1.7.0,>=1.2.0 in /usr/local/lib/python3.7/dist-packages (from gym->gym-shootndodge==1.2) (1.3.0)\n",
            "Requirement already satisfied: scipy in /usr/local/lib/python3.7/dist-packages (from gym->gym-shootndodge==1.2) (1.4.1)\n",
            "Requirement already satisfied: pyglet<=1.5.0,>=1.4.0 in /usr/local/lib/python3.7/dist-packages (from gym->gym-shootndodge==1.2) (1.5.0)\n",
            "Requirement already satisfied: future in /usr/local/lib/python3.7/dist-packages (from pyglet<=1.5.0,>=1.4.0->gym->gym-shootndodge==1.2) (0.16.0)\n",
            "Installing collected packages: gym-shootndodge\n",
            "  Attempting uninstall: gym-shootndodge\n",
            "    Found existing installation: gym-shootndodge 1.2\n",
            "    Can't uninstall 'gym-shootndodge'. No files were found to uninstall.\n",
            "  Running setup.py develop for gym-shootndodge\n",
            "Successfully installed gym-shootndodge-1.2\n"
          ]
        }
      ],
      "source": [
        "# NOTE:\n",
        "# .... You should be at the root directory of the repository in order to run this\n",
        "\n",
        "!pip install -e gym-shootndodge/.\n",
        "# !pip install -e /content/drive/MyDrive/AI/5/Q2/gym-shootndodge/.\n",
        "# ------------------------------------------------------------------------------------\n",
        "\n",
        "# Install from git address (useful for Google Colab)\n",
        "\n",
        "# !pip install -e git+https://github.com/sut-ai/F2021-P5/tree/master/practical/questions/gym-shootndodge/."
      ]
    },
    {
      "cell_type": "markdown",
      "id": "dff4d113",
      "metadata": {
        "id": "dff4d113"
      },
      "source": [
        "## Seeing the game\n",
        "\n",
        "Without further ado, we shall start see how your game works. To do so, run the code below:"
      ]
    },
    {
      "cell_type": "code",
      "execution_count": 13,
      "id": "8ef502e0",
      "metadata": {
        "id": "8ef502e0",
        "colab": {
          "base_uri": "https://localhost:8080/",
          "height": 269
        },
        "outputId": "4b33d557-ecb9-4ccb-b693-bce375392e3d"
      },
      "outputs": [
        {
          "output_type": "display_data",
          "data": {
            "image/png": "[encoded data removed]",
            "text/plain": [
              "<Figure size 432x288 with 1 Axes>"
            ]
          },
          "metadata": {
            "needs_background": "light"
          }
        }
      ],
      "source": [
        "env = gym.make(ENV_NAME)\n",
        "obs = env.reset()\n",
        "plt.imshow(env.render(mode='rgb_array'), aspect='auto')\n",
        "plt.show()"
      ]
    },
    {
      "cell_type": "markdown",
      "id": "dcd300e9",
      "metadata": {
        "id": "dcd300e9"
      },
      "source": [
        "Run the game in multiple frames to see what it looks like:"
      ]
    },
    {
      "cell_type": "code",
      "execution_count": 14,
      "id": "f8dcb334",
      "metadata": {
        "id": "f8dcb334",
        "colab": {
          "base_uri": "https://localhost:8080/",
          "height": 269
        },
        "outputId": "b0e306f4-d696-4328-9c2c-907ade64ce37"
      },
      "outputs": [
        {
          "output_type": "display_data",
          "data": {
            "image/png": "[encoded data removed]",
            "text/plain": [
              "<Figure size 432x288 with 1 Axes>"
            ]
          },
          "metadata": {
            "needs_background": "light"
          }
        }
      ],
      "source": [
        "env = gym.make(ENV_NAME)\n",
        "env.seed(2022)\n",
        "obs = env.reset()\n",
        "\n",
        "a = env.action_space.sample()\n",
        "for i in range(5000):\n",
        "    if (i + 1) % 40 == 0:\n",
        "        a = env.action_space.sample()\n",
        "    observation, reward, done, info = env.step(a)\n",
        "    if (i + 1) % 5 == 0:\n",
        "        clear_output(True)\n",
        "        screen = env.render(mode='rgb_array')\n",
        "        plt.imshow(screen, aspect='auto')\n",
        "        plt.show()\n",
        "    if done:\n",
        "        break"
      ]
    },
    {
      "cell_type": "code",
      "source": [
        "# extra\n",
        "print(env.observation_space.shape)\n",
        "print(np.shape(obs))\n",
        "import cv2\n",
        "\n",
        "img = screen[55:195,10:150] # cropping\n",
        "img = cv2.cvtColor(img, cv2.COLOR_BGR2GRAY) # Gray scale\n",
        "img = cv2.resize(img, (84, 84), interpolation = cv2.INTER_AREA)\n",
        "img = np.float32(img)/255\n",
        "plt.imshow(img*255, cmap='gray', aspect='auto')\n",
        "img = np.expand_dims(img, axis=2)\n",
        "print(np.shape(img))\n",
        "\n",
        "def observation(self, img):\n",
        "  \"\"\"what happens to each observation\"\"\"\n",
        "  img = img[55:195,10:150] # cropping\n",
        "  img = cv2.cvtColor(img, cv2.COLOR_BGR2GRAY) # Gray scale\n",
        "  img = cv2.resize(img, (self.img_size[0], self.img_size[1]), interpolation = cv2.INTER_AREA) # resizing\n",
        "  img = np.float32(img)/255\n",
        "  img = np.expand_dims(img, axis=2)\n",
        "        # Here's what you need to do:\n",
        "        #  * crop image, remove irrelevant parts\n",
        "        #  * resize image to self.img_size\n",
        "        #     (use imresize from any library you want,\n",
        "        #      e.g. opencv, skimage, PIL, keras)\n",
        "        #  * cast image to grayscale (in case of breakout)\n",
        "        #  * convert image pixels to (0,1) range, float32 type\n",
        "\n",
        "        # TODO: complete observation descaling\n",
        "  processed_img = img\n",
        "  return processed_img\n",
        "\n",
        "def observation(self, img):\n",
        "      \"\"\"what happens to each observation\"\"\"\n",
        "      img = img[55:195,10:150] # cropping\n",
        "      img = cv2.cvtColor(img, cv2.COLOR_BGR2GRAY) # Gray scale\n",
        "      img = cv2.resize(img, (self.img_size[0], self.img_size[1]), interpolation = cv2.INTER_AREA) # resizing\n",
        "      img = np.float32(img)/255\n",
        "      img = np.expand_dims(img, axis=2)\n",
        "      processed_img = img\n",
        "      return processed_img"
      ],
      "metadata": {
        "id": "n3jre0A4fw_H",
        "colab": {
          "base_uri": "https://localhost:8080/",
          "height": 320
        },
        "outputId": "56458b9f-d43c-4385-8283-2995e2cf52b8"
      },
      "id": "n3jre0A4fw_H",
      "execution_count": 15,
      "outputs": [
        {
          "output_type": "stream",
          "name": "stdout",
          "text": [
            "(210, 160, 3)\n",
            "(210, 160, 3)\n",
            "(84, 84, 1)\n"
          ]
        },
        {
          "output_type": "display_data",
          "data": {
            "image/png": "[encoded data removed]",
            "text/plain": [
              "<Figure size 432x288 with 1 Axes>"
            ]
          },
          "metadata": {
            "needs_background": "light"
          }
        }
      ]
    },
    {
      "cell_type": "markdown",
      "id": "c83cb315",
      "metadata": {
        "id": "c83cb315"
      },
      "source": [
        "Feel free to hard code any policies before moving on to the next steps."
      ]
    },
    {
      "cell_type": "markdown",
      "id": "320da2f7",
      "metadata": {
        "id": "320da2f7"
      },
      "source": [
        "## Environment Wrappers\n",
        "\n",
        "In this section, we will do some preprocessings on the environment. Basically our work consists of wrapping our environment around three wrappers. You should implement each of these wrappers in the `src/wrappers.py` file provided to you in the assignment folder. \n",
        "* Reducing image input size: The Atari game given as input has high resolution which is definitely not needed for the model and it can learn efficiently without all of the additional data. These additional pixels create overhead. We can thus save a lot of time by preprocessing game image, including:\n",
        "    - Resizing to a smaller shape, (84 x 84 recommended for the Breakout and 50 x 50 recommended for ShootNDodge)\n",
        "    - Converting to grayscale (Not recommended for ShootNDodge)\n",
        "    - Cropping irrelevant image parts (top, bottom and edges)\n",
        "    - Also please keep one dimension for channel even if the image is grayscale so that final shape would be (H x W x C)\n",
        "* Reward clipping: There might be the case that many of the RL problems have unstable rewards. In case the rewards are not continuous with respect to the state space, then the local optimization methods used for learning the network will fall short. To address this issue we create a wrapper around our original environment - Note that this is not a necessity and in case you feel comfortable with the rewards given in the original environment, then your wrapper should simply return the previous values as if nothing has heppened! Feel free to accumulate more knowledge about reward clipping where we reduce the range of the rewards to [-1, 1]. In case you observe increasing gradient norms in the learning process, then it would be good to consider this method.\n",
        "* Remove Blinking: Since we resize the image, we might come accross blinking whereas in one frame a certain thing is visible, but at the split-frame afterward, it fades and then returns again. To remove this issue we introduce a `MaxAndSkipEnv` in which we skip one frame and each frame's intensity will be equal to the maximum of the previous frame and itself. A preliminary code is implemented in the `wrappers.py` file.\n",
        "* Episodic life: In case of *Breakout* losing takes 5 lives. To increase the chance of the model learning, we may end the game whenever one single life is lost.\n",
        "* Starting the game: In case of *Breakout* one should take a particular action to start the game. For example, they might need to press the `space` key in order for the game to start rolling. A wrapper is implemented to forcefully enter the game start action in the beginning. Indeed, in case this wrapper is not implemented, the agent can learn to take that action to gain higher reward; however, this will make the training time even longer."
      ]
    },
    {
      "cell_type": "markdown",
      "id": "2e2c2ddc",
      "metadata": {
        "id": "2e2c2ddc"
      },
      "source": [
        "After implementing or checking the wrappers in `src/wrappers.py` we can culminate all of the wrappers in the following class. A baseline is implemented for this wrapper but feel free to change it at will."
      ]
    },
    {
      "cell_type": "code",
      "execution_count": 10,
      "id": "ae0e3340",
      "metadata": {
        "id": "ae0e3340"
      },
      "outputs": [],
      "source": [
        "from src.wrappers import PreprocessAtariObs, MaxAndSkipEnv, EpisodicLifeEnv, FireResetEnv, ClipRewardEnv, PreprocessAtariObs\n",
        "\n",
        "# def PrimaryAtariWrap(env, game, clip_rewards=True):\n",
        "def PrimaryAtariWrap(env, clip_rewards=True): \n",
        "    name = env.unwrapped.spec.id\n",
        "    # print(name)\n",
        "    # This wrapper holds the same action for <skip> frames and outputs\n",
        "    # the maximal pixel value of 2 last frames (to handle blinking\n",
        "    # in some envs)\n",
        "    env = MaxAndSkipEnv(env, skip=4)\n",
        "\n",
        "    # This wrapper sends done=True when each life is lost\n",
        "    # (not all the 5 lives that are givern by the game rules).\n",
        "    # It should make easier for the agent to understand that losing is bad.\n",
        "    if name == \"BreakoutNoFrameskip-v4\":\n",
        "        EpisodicLifeEnv(env)\n",
        "\n",
        "    # This wrapper laucnhes the ball when an episode starts.\n",
        "    # Without it the agent has to learn this action, too.\n",
        "    # Actually it can but learning would take longer.\n",
        "    if name == \"BreakoutNoFrameskip-v4\":\n",
        "        env = FireResetEnv(env)\n",
        "\n",
        "    # This wrapper squeezes the rewards to range [-1, 1]\n",
        "    if clip_rewards:\n",
        "        env = ClipRewardEnv(env)\n",
        "\n",
        "    # This wrapper is yours :)\n",
        "    env = PreprocessAtariObs(env, True)\n",
        "    # print(env)\n",
        "    return env"
      ]
    },
    {
      "cell_type": "markdown",
      "id": "f285b7a6",
      "metadata": {
        "id": "f285b7a6"
      },
      "source": [
        "\n",
        "## Frame Buffer\n",
        "\n",
        "It is reasonable to assume that only one frame of the game does not hold information about the game dynamics. Hence, each observation should in fact contain multiple frames. There is a rule of thumb in these Atari games to consider buffering the last 4 frames of the game. In that case, each observation will be of form (H x W x C*F) where F represents the number of frames saved.\n",
        "\n",
        "To implement this, you may check the `src/framebuffer.py` file or change/implement your own frame buffer. With all of that done, we can run the following function to have an environment that has rich observations and reasonable rewards that provide the features necessary to train our DQN model.\n"
      ]
    },
    {
      "cell_type": "code",
      "execution_count": 11,
      "id": "78f9d5fa",
      "metadata": {
        "id": "78f9d5fa",
        "colab": {
          "base_uri": "https://localhost:8080/"
        },
        "outputId": "c94985d7-5f9f-4ef7-8fcc-4faa41a03001"
      },
      "outputs": [
        {
          "output_type": "stream",
          "name": "stdout",
          "text": [
            "4\n",
            "(84, 84, 4)\n",
            "Box(0.0, 1.0, (84, 84, 4), float32)\n"
          ]
        }
      ],
      "source": [
        "from src.framebuffer import FrameBuffer\n",
        "\n",
        "def make_env(clip_rewards=False, seed=None):\n",
        "    env = gym.make(ENV_NAME)  # create raw env\n",
        "    if seed is not None:\n",
        "        env.seed(seed)\n",
        "    env = PrimaryAtariWrap(env, clip_rewards)\n",
        "    env = FrameBuffer(env, n_frames=4)\n",
        "    return env\n",
        "\n",
        "env = make_env()\n",
        "env.reset()\n",
        "n_actions = env.action_space.n\n",
        "print(n_actions)\n",
        "state_shape = env.observation_space.shape\n",
        "print(state_shape)\n",
        "\n",
        "obs = env.observation_space\n",
        "print(obs)"
      ]
    },
    {
      "cell_type": "markdown",
      "id": "4d24af5e",
      "metadata": {
        "id": "4d24af5e"
      },
      "source": [
        "### The DQN architecture\n",
        "\n",
        "We now need to build a neural network that can map images to state q-values. This network will be called on every agent's step so it better not be resnet-152 unless you have an array of GPUs. Instead, you can use strided convolutions with a small number of features to save time and memory.\n",
        "\n",
        "You can build any architecture you want, but for reference, here's something that will more or less work:\n",
        "\n",
        "<img src=\"figs/dqn_arch.png\" width=400 height=400/>\n",
        "\n",
        "**IMPORTANT NOTE!** The pytorch library takes inputs as tensors of size `[batch_size, channel_size, h, w]`; however, for visualization reasons, we have used numpy arrays of size `[h, w, channel_size]` up until now! Make sure to do the needed transformation before giving it convolutional layers."
      ]
    },
    {
      "cell_type": "code",
      "execution_count": 12,
      "id": "4722d940",
      "metadata": {
        "id": "4722d940"
      },
      "outputs": [],
      "source": [
        "class DQNAgent(nn.Module):\n",
        "    def __init__(self, env, epsilon=0):\n",
        "\n",
        "        super().__init__()\n",
        "        self.epsilon = epsilon\n",
        "        self.state_shape = (-1, \n",
        "                            env.observation_space.shape[2],\n",
        "                            env.observation_space.shape[0],\n",
        "                            env.observation_space.shape[1])\n",
        "        self.n_actions = env.action_space.n\n",
        "\n",
        "        # TODO\n",
        "        # Define your network body here. Please make sure agent is fully contained here\n",
        "        # nn.Flatten() can be useful\n",
        "        #<YOUR CODE>\n",
        "        #######################################################\n",
        "        self.layers = nn.Sequential(\n",
        "            nn.Conv2d(4, 16, 3, stride=2),   # B 16  41  41  \n",
        "            nn.ReLU(),\n",
        "            nn.Conv2d(16, 32, 3, stride=2),  # B 32  20  20  \n",
        "            nn.ReLU(),\n",
        "            nn.Conv2d(32, 64, 3, stride=2),  # B 64  9  9\n",
        "            nn.ReLU(),\n",
        "        )                \n",
        "        self.fc = nn.Sequential(\n",
        "            nn.Flatten(),                    # B 2048\n",
        "            nn.Linear(9*9*64, 256),         # B 256\n",
        "            nn.ReLU(),\n",
        "            nn.Linear(256, self.n_actions)\n",
        "        )\n",
        "        #######################################################\n",
        "\n",
        "    def forward(self, state_t):\n",
        "        \"\"\"\n",
        "        takes agent's observation (tensor), returns qvalues (tensor)\n",
        "        :param state_t: a batch of 4-frame buffers, shape = [batch_size, h, w, 4 * c]\n",
        "        \"\"\"\n",
        "        # TODO\n",
        "        #######################################################\n",
        "        state_t = torch.reshape(state_t, self.state_shape)#.to(device)\n",
        "        state_t = self.layers(state_t)#.to(device)\n",
        "        qvalues = self.fc(state_t)#.to(device)\n",
        "        #######################################################\n",
        "        # Use your network to compute qvalues for given state\n",
        "        # qvalues = None\n",
        "\n",
        "        assert qvalues.requires_grad, \"qvalues must be a torch tensor with grad\"\n",
        "        assert len(qvalues.shape) == 2 and qvalues.shape[0] == state_t.shape[0] and qvalues.shape[1] == self.n_actions\n",
        "\n",
        "        return qvalues\n",
        "\n",
        "    def get_qvalues(self, states):\n",
        "        \"\"\"\n",
        "        like forward, but works on numpy arrays, not tensors\n",
        "        \"\"\"\n",
        "        model_device = next(self.parameters()).device\n",
        "        states = torch.tensor(states, device=model_device, dtype=torch.float)\n",
        "        qvalues = self.forward(states)\n",
        "        return qvalues.data.cpu().numpy()\n",
        "        \n",
        "\n",
        "    def sample_actions(self, qvalues, epsilon):\n",
        "        \"\"\"pick actions given qvalues. Uses epsilon-greedy exploration strategy. \"\"\"\n",
        "        epsilon = self.epsilon\n",
        "        batch_size, n_actions = qvalues.shape\n",
        "\n",
        "        random_actions = np.random.choice(n_actions, size=batch_size)\n",
        "        best_actions = qvalues.argmax(axis=-1)\n",
        "\n",
        "        should_explore = np.random.choice(\n",
        "            [0, 1], batch_size, p=[1-epsilon, epsilon])\n",
        "        return np.where(should_explore, random_actions, best_actions)"
      ]
    },
    {
      "cell_type": "markdown",
      "id": "e22c3d5e",
      "metadata": {
        "id": "e22c3d5e"
      },
      "source": [
        "Run the agent to see if it encounters any errors:"
      ]
    },
    {
      "cell_type": "code",
      "execution_count": 13,
      "id": "436ac702",
      "metadata": {
        "id": "436ac702"
      },
      "outputs": [],
      "source": [
        "def evaluate(env, agent, n_games=1, greedy=False, t_max=10000, visualize=False):\n",
        "    \"\"\" Plays n_games full games. If greedy, picks actions as argmax(qvalues). Returns mean reward. \"\"\"\n",
        "    rewards = []\n",
        "    for g in range(n_games):\n",
        "        s = env.reset()\n",
        "        total_reward = 0\n",
        "        for t in range(t_max):\n",
        "            qvalues = agent.get_qvalues(torch.tensor([s], dtype=torch.float32))\n",
        "            a = agent.sample_actions(qvalues, epsilon=greedy)[0]\n",
        "            next_s, r, done, _ = env.step(a)\n",
        "            total_reward += r\n",
        "            s = next_s\n",
        "            if done:\n",
        "                break\n",
        "        print(f'reward of game {g+1} is {total_reward}')\n",
        "        rewards.append(total_reward)\n",
        "    # TODO: your code here!\n",
        "    return np.mean(rewards)"
      ]
    },
    {
      "cell_type": "code",
      "execution_count": 14,
      "id": "e1d5a291",
      "metadata": {
        "id": "e1d5a291",
        "colab": {
          "base_uri": "https://localhost:8080/"
        },
        "outputId": "639cec93-3169-48d2-8bc8-34cc0e11ed05"
      },
      "outputs": [
        {
          "output_type": "stream",
          "name": "stderr",
          "text": [
            "/usr/local/lib/python3.7/dist-packages/ipykernel_launcher.py:8: UserWarning: Creating a tensor from a list of numpy.ndarrays is extremely slow. Please consider converting the list to a single numpy.ndarray with numpy.array() before converting to a tensor. (Triggered internally at  ../torch/csrc/utils/tensor_new.cpp:201.)\n",
            "  \n",
            "/usr/local/lib/python3.7/dist-packages/ipykernel_launcher.py:57: UserWarning: To copy construct from a tensor, it is recommended to use sourceTensor.clone().detach() or sourceTensor.clone().detach().requires_grad_(True), rather than torch.tensor(sourceTensor).\n"
          ]
        },
        {
          "output_type": "stream",
          "name": "stdout",
          "text": [
            "reward of game 1 is 0.0\n",
            "reward of game 2 is 0.0\n",
            "reward of game 3 is 0.0\n",
            "reward of game 4 is 0.0\n",
            "reward of game 5 is 0.0\n",
            "reward of game 6 is 0.0\n",
            "reward of game 7 is 0.0\n",
            "reward of game 8 is 0.0\n",
            "reward of game 9 is 0.0\n",
            "reward of game 10 is 0.0\n",
            "reward of game 11 is 0.0\n",
            "reward of game 12 is 0.0\n",
            "reward of game 13 is 0.0\n",
            "reward of game 14 is 0.0\n",
            "reward of game 15 is 0.0\n"
          ]
        },
        {
          "output_type": "execute_result",
          "data": {
            "text/plain": [
              "0.0"
            ]
          },
          "metadata": {},
          "execution_count": 14
        }
      ],
      "source": [
        "# Run the code below to see if the network can run a policy\n",
        "agent = DQNAgent(env)\n",
        "evaluate(env, agent, n_games=15, t_max=10)"
      ]
    },
    {
      "cell_type": "markdown",
      "id": "5f7a38fc",
      "metadata": {
        "id": "5f7a38fc"
      },
      "source": [
        "### Experience Replay\n",
        "\n",
        "The common practice in DQN literature consists of using an experience replay buffer in which tuples of form $(s, a, r, s')$ are stored. In each epoch, a random batch of this buffer will be given to the network for training. \n",
        "\n",
        "In this section, we will implement this buffer; the interface is fairly simple:\n",
        "* `exp_replay.add(obs, act, rw, next_obs, done)` - saves (s,a,r,s',done) tuple into the buffer\n",
        "* `exp_replay.sample(batch_size)` - returns observations, actions, rewards, next_observations and is_done for batch_size random samples.\n",
        "* `len(exp_replay)` - returns number of elements stored in replay buffer."
      ]
    },
    {
      "cell_type": "code",
      "execution_count": 15,
      "id": "c6bf37bd",
      "metadata": {
        "id": "c6bf37bd"
      },
      "outputs": [],
      "source": [
        "# This code is shamelessly stolen from\n",
        "# https://github.com/openai/baselines/blob/master/baselines/deepq/replay_buffer.py\n",
        "import numpy as np\n",
        "import random\n",
        "\n",
        "\n",
        "class ReplayBuffer:\n",
        "    def __init__(self, size):\n",
        "        \"\"\"Create Replay buffer.\n",
        "        Parameters\n",
        "        ----------\n",
        "        size: int\n",
        "            Max number of transitions to store in the buffer. When the buffer\n",
        "            overflows the old memories are dropped.\n",
        "        \"\"\"\n",
        "        self._storage = []\n",
        "        self._maxsize = size\n",
        "        self._next_idx = 0\n",
        "\n",
        "    def __len__(self):\n",
        "        return len(self._storage)\n",
        "\n",
        "    def add(self, obs_t, action, reward, obs_tp1, done):\n",
        "        # fill the data cyclically, if the list is not yet complete append it\n",
        "        data = (obs_t, action, reward, obs_tp1, done)\n",
        "\n",
        "        if self._next_idx >= len(self._storage):\n",
        "            self._storage.append(data)\n",
        "        else:\n",
        "            self._storage[self._next_idx] = data\n",
        "        self._next_idx = (self._next_idx + 1) % self._maxsize\n",
        "\n",
        "    def _encode_sample(self, idxes):\n",
        "        obses_t, actions, rewards, obses_tp1, dones = [], [], [], [], []\n",
        "        for i in idxes:\n",
        "            data = self._storage[i]\n",
        "            obs_t, action, reward, obs_tp1, done = data\n",
        "            obses_t.append(np.array(obs_t, copy=False))\n",
        "            actions.append(np.array(action, copy=False))\n",
        "            rewards.append(reward)\n",
        "            obses_tp1.append(np.array(obs_tp1, copy=False))\n",
        "            dones.append(done)\n",
        "        return (\n",
        "            np.array(obses_t),\n",
        "            np.array(actions),\n",
        "            np.array(rewards),\n",
        "            np.array(obses_tp1),\n",
        "            np.array(dones)\n",
        "        )\n",
        "\n",
        "    def sample(self, batch_size):\n",
        "        \"\"\"Sample a batch of experiences.\n",
        "        Parameters\n",
        "        ----------\n",
        "        batch_size: int\n",
        "            How many transitions to sample.\n",
        "        Returns\n",
        "        -------\n",
        "        obs_batch: np.array\n",
        "            batch of observations\n",
        "        act_batch: np.array\n",
        "            batch of actions executed given obs_batch\n",
        "        rew_batch: np.array\n",
        "            rewards received as results of executing act_batch\n",
        "        next_obs_batch: np.array\n",
        "            next set of observations seen after executing act_batch\n",
        "        done_mask: np.array\n",
        "            done_mask[i] = 1 if executing act_batch[i] resulted in\n",
        "            the end of an episode and 0 otherwise.\n",
        "        \"\"\"\n",
        "        idxes = [\n",
        "            random.randint(0, len(self._storage) - 1)\n",
        "            for _ in range(batch_size)\n",
        "        ]\n",
        "        return self._encode_sample(idxes)"
      ]
    },
    {
      "cell_type": "markdown",
      "id": "1d7262eb",
      "metadata": {
        "id": "1d7262eb"
      },
      "source": [
        "Implement the function `play_and_record` in which we play the game for a number of steps and add the steps into an experience replay buffer."
      ]
    },
    {
      "cell_type": "code",
      "execution_count": 16,
      "id": "0cae0ae1",
      "metadata": {
        "id": "0cae0ae1"
      },
      "outputs": [],
      "source": [
        "def play_and_record(initial_state, agent, env, exp_replay, n_steps=1):\n",
        "    \"\"\"\n",
        "    Play the game for exactly n steps, record every (s,a,r,s', done) to replay buffer. \n",
        "    Whenever game ends, add record with done=True and reset the game.\n",
        "    It is guaranteed that env has done=False when passed to this function.\n",
        "\n",
        "    PLEASE DO NOT RESET ENV UNLESS IT IS \"DONE\"\n",
        "\n",
        "    :returns: return sum of rewards over time and the state in which the env stays\n",
        "    \"\"\"\n",
        "    s = initial_state\n",
        "    sum_rewards = 0\n",
        "\n",
        "    # Play the game for n_steps as per instructions above\n",
        "    for i in range(n_steps):\n",
        "        # TODO: implement this section\n",
        "        ##################################################################\n",
        "        qvalues = agent.get_qvalues(torch.tensor([s], dtype=torch.float32))\n",
        "        a = agent.sample_actions(qvalues, epsilon=1)[0]\n",
        "        next_s, r, done, _ = env.step(a)  \n",
        "        exp_replay.add(s, a, r, next_s, False)\n",
        "        if done == True:\n",
        "          s = env.reset()\n",
        "        else:\n",
        "          s = next_s\n",
        "        sum_rewards += r\n",
        "        ##################################################################\n",
        "    return sum_rewards, s"
      ]
    },
    {
      "cell_type": "markdown",
      "id": "20af7e57",
      "metadata": {
        "id": "20af7e57"
      },
      "source": [
        "Run some simple sanity checks."
      ]
    },
    {
      "cell_type": "code",
      "execution_count": 17,
      "id": "88cafe9f",
      "metadata": {
        "id": "88cafe9f",
        "colab": {
          "base_uri": "https://localhost:8080/"
        },
        "outputId": "ee33a8df-c6b7-41ee-8735-9799ae7c4cbf"
      },
      "outputs": [
        {
          "output_type": "stream",
          "name": "stderr",
          "text": [
            "/usr/local/lib/python3.7/dist-packages/ipykernel_launcher.py:57: UserWarning: To copy construct from a tensor, it is recommended to use sourceTensor.clone().detach() or sourceTensor.clone().detach().requires_grad_(True), rather than torch.tensor(sourceTensor).\n"
          ]
        },
        {
          "output_type": "stream",
          "name": "stdout",
          "text": [
            "Well done!\n"
          ]
        }
      ],
      "source": [
        "exp_replay = ReplayBuffer(10)\n",
        "\n",
        "for _ in range(30):\n",
        "    exp_replay.add(env.reset(), env.action_space.sample(),\n",
        "                   1.0, env.reset(), done=False)\n",
        "\n",
        "obs_batch, act_batch, reward_batch, next_obs_batch, is_done_batch = exp_replay.sample(\n",
        "    5)\n",
        "\n",
        "assert len(exp_replay) == 10, \"experience replay size should be 10 because that's what maximum capacity is\"\n",
        "\n",
        "exp_replay = ReplayBuffer(2000)\n",
        "\n",
        "state = env.reset()\n",
        "play_and_record(state, agent, env, exp_replay, n_steps=1000)\n",
        "\n",
        "# if you're using your own experience replay buffer, some of those tests may need correction.\n",
        "# just make sure you know what your code does\n",
        "assert len(exp_replay) == 1000, \"play_and_record should have added exactly 1000 steps, \"\\\n",
        "                                 \"but instead added %i\" % len(exp_replay)\n",
        "is_dones = list(zip(*exp_replay._storage))[-1]\n",
        "\n",
        "for _ in range(100):\n",
        "    obs_batch, act_batch, reward_batch, next_obs_batch, is_done_batch = exp_replay.sample(\n",
        "        10)\n",
        "    assert obs_batch.shape == next_obs_batch.shape == (10,) + state_shape\n",
        "    assert act_batch.shape == (\n",
        "        10,), \"actions batch should have shape (10,) but is instead %s\" % str(act_batch.shape)\n",
        "    assert reward_batch.shape == (\n",
        "        10,), \"rewards batch should have shape (10,) but is instead %s\" % str(reward_batch.shape)\n",
        "    assert is_done_batch.shape == (\n",
        "        10,), \"is_done batch should have shape (10,) but is instead %s\" % str(is_done_batch.shape)\n",
        "    assert [int(i) in (0, 1)\n",
        "            for i in is_dones], \"is_done should be strictly True or False\"\n",
        "    assert [\n",
        "        0 <= a < n_actions for a in act_batch], \"actions should be within [0, n_actions)\"\n",
        "\n",
        "print(\"Well done!\")"
      ]
    },
    {
      "cell_type": "markdown",
      "id": "baf20465",
      "metadata": {
        "id": "baf20465"
      },
      "source": [
        "### Target Networks\n",
        "\n",
        "DQN is basically a policy iteration method in which we both approximate the $Q$ values and improve them as we go. This might cause any errors in estimating to propagate and create unwanted difficulties. To address this issue we use **Target Networks**. Recall the main Q-Learning framework:\n",
        "\n",
        "$$Q(s, a; \\Theta) := Q(s, a; \\Theta) + \\eta \\big(R(s, a) + \\gamma \\times \\max_{a'} \\hat{Q}(s, a'; \\Theta')  - Q(s, a; \\Theta)\\big)$$\n",
        "\n",
        "In this framework we approximate the $\\hat{Q}(s, a'; \\Theta')$ values using a network parameterized by $\\Theta'$ and this is the actual target network. After certain frequencies we load the current network into the target network."
      ]
    },
    {
      "cell_type": "code",
      "execution_count": 18,
      "id": "e48d22e2",
      "metadata": {
        "id": "e48d22e2",
        "colab": {
          "base_uri": "https://localhost:8080/"
        },
        "outputId": "69bdceba-2697-4456-93e9-c6c8d08c3997"
      },
      "outputs": [
        {
          "output_type": "execute_result",
          "data": {
            "text/plain": [
              "<All keys matched successfully>"
            ]
          },
          "metadata": {},
          "execution_count": 18
        }
      ],
      "source": [
        "target_network = DQNAgent(env, epsilon=0.5).to(device)\n",
        "# This is how you can load weights from agent into target network\n",
        "target_network.load_state_dict(agent.state_dict())"
      ]
    },
    {
      "cell_type": "markdown",
      "id": "0ba70316",
      "metadata": {
        "id": "0ba70316"
      },
      "source": [
        "## Q-Learning\n",
        "Here we will finally implement the Q-Learning procedure. Here's the process:\n",
        "\n",
        "Compute Q-learning TD error:\n",
        "\n",
        "$$ L = { 1 \\over N} \\sum_i [ Q_{\\theta}(s,a) - Q_{reference}(s,a) ] ^2 $$\n",
        "\n",
        "With Q-reference defined as\n",
        "\n",
        "$$ Q_{reference}(s,a) = r(s,a) + \\gamma \\cdot max_{a'} Q_{target}(s', a') $$\n",
        "\n",
        "Where\n",
        "* $Q_{target}(s',a')$ denotes q-value of next state and next action predicted by __target_network__\n",
        "* $s, a, r, s'$ are current state, action, reward and next state respectively\n",
        "* $\\gamma$ is a discount factor defined two cells above.\n",
        "\n",
        "\n",
        "__Note 1:__ there's an example input below. Feel free to experiment with it before you write the function.\n",
        "\n",
        "__Note 2:__ compute_td_loss is a source of 99% of bugs in this homework. If reward doesn't improve, it often helps to go through it line by line [with a rubber duck](https://rubberduckdebugging.com/)."
      ]
    },
    {
      "cell_type": "code",
      "execution_count": 19,
      "id": "8858a4f5",
      "metadata": {
        "id": "8858a4f5"
      },
      "outputs": [],
      "source": [
        "def compute_td_loss(states, actions, rewards, next_states, is_done,\n",
        "                    agent, target_network,\n",
        "                    gamma=0.99,\n",
        "                    check_shapes=False,\n",
        "                    device=device):\n",
        "    \"\"\" Compute td loss using torch operations only. Use the formulae above. \"\"\"\n",
        "    states = torch.tensor(states, device=device, dtype=torch.float)    # shape: [batch_size, *state_shape]\n",
        "    \n",
        "    # for some torch reason should not make actions a tensor\n",
        "    actions = torch.tensor(actions, device=device, dtype=torch.long)    # shape: [batch_size]\n",
        "    rewards = torch.tensor(rewards, device=device, dtype=torch.float)  # shape: [batch_size]\n",
        "    # shape: [batch_size, *state_shape]\n",
        "    next_states = torch.tensor(next_states, device=device, dtype=torch.float)\n",
        "    is_done = torch.tensor(is_done.astype('float32'),device=device,dtype=torch.float)  # shape: [batch_size]\n",
        "    is_not_done = 1 - is_done\n",
        "    agent = agent.to(device)\n",
        "    # get q-values for all actions in current states\n",
        "    predicted_qvalues = agent(states)\n",
        "\n",
        "    # compute q-values for all actions in next states\n",
        "    predicted_next_qvalues = target_network(next_states)\n",
        "    \n",
        "    # select q-values for chosen actions\n",
        "    predicted_qvalues_for_actions = predicted_qvalues[range(\n",
        "        len(actions)), actions]\n",
        "\n",
        "    # compute V*(next_states) using predicted next q-values\n",
        "    # TODO\n",
        "    ##################################################################\n",
        "    next_state_values = predicted_next_qvalues.max(axis=-1)[0] \n",
        "    #<YOUR CODE>\n",
        "    ##################################################################\n",
        "\n",
        "    assert next_state_values.dim(\n",
        "    ) == 1 and next_state_values.shape[0] == states.shape[0], \"must predict one value per state\"\n",
        "\n",
        "    # compute \"target q-values\" for loss - it's what's inside square parentheses in the above formula.\n",
        "    # at the last state use the simplified formula: Q(s,a) = r(s,a) since s' doesn't exist\n",
        "    # you can multiply next state values by is_not_done to achieve this.\n",
        "    # TODO\n",
        "    ##################################################################\n",
        "    target_qvalues_for_actions = rewards + gamma * next_state_values * (1-is_done)\n",
        "    # target_qvalues_for_actions = torch.where(is_done , rewards, target_qvalues_for_actions)\n",
        "     #<YOUR CODE>\n",
        "    ##################################################################\n",
        "    # mean squared error loss to minimize\n",
        "    loss = torch.mean((predicted_qvalues_for_actions -\n",
        "                       target_qvalues_for_actions.detach()) ** 2)\n",
        "\n",
        "    if check_shapes:\n",
        "        assert predicted_next_qvalues.data.dim(\n",
        "        ) == 2, \"make sure you predicted q-values for all actions in next state\"\n",
        "        assert next_state_values.data.dim(\n",
        "        ) == 1, \"make sure you computed V(s') as maximum over just the actions axis and not all axes\"\n",
        "        assert target_qvalues_for_actions.data.dim(\n",
        "        ) == 1, \"there's something wrong with target q-values, they must be a vector\"\n",
        "\n",
        "    return loss"
      ]
    },
    {
      "cell_type": "markdown",
      "id": "02fa41ef",
      "metadata": {
        "id": "02fa41ef"
      },
      "source": [
        "Sanity checks!"
      ]
    },
    {
      "cell_type": "code",
      "execution_count": 20,
      "id": "36770c20",
      "metadata": {
        "id": "36770c20"
      },
      "outputs": [],
      "source": [
        "obs_batch, act_batch, reward_batch, next_obs_batch, is_done_batch = exp_replay.sample(10)\n",
        "\n",
        "loss = compute_td_loss(obs_batch, act_batch, reward_batch, next_obs_batch, is_done_batch,\n",
        "                       agent, target_network,\n",
        "                       gamma=0.99, check_shapes=True, device=device)\n",
        "loss.backward()\n",
        "\n",
        "assert loss.requires_grad and tuple(loss.data.size()) == (\n",
        "    ), \"you must return scalar loss - mean over batch\"\n",
        "assert np.any(next(agent.parameters()).grad.data.cpu().numpy() !=\n",
        "              0), \"loss must be differentiable w.r.t. network weights\"\n",
        "assert np.all(next(target_network.parameters()).grad is None), \"target network should not have grads\""
      ]
    },
    {
      "cell_type": "markdown",
      "id": "1b4dd741",
      "metadata": {
        "id": "1b4dd741"
      },
      "source": [
        "## Main Learning Loop"
      ]
    },
    {
      "cell_type": "code",
      "execution_count": 21,
      "id": "d61fead8",
      "metadata": {
        "id": "d61fead8",
        "colab": {
          "base_uri": "https://localhost:8080/"
        },
        "outputId": "d3af232a-592e-44d7-f3ac-a967ccca1d46"
      },
      "outputs": [
        {
          "output_type": "execute_result",
          "data": {
            "text/plain": [
              "<torch._C.Generator at 0x7f7a39d55230>"
            ]
          },
          "metadata": {},
          "execution_count": 21
        }
      ],
      "source": [
        "seed = 13790110 #<your favourite random seed>\n",
        "random.seed(seed)\n",
        "np.random.seed(seed)\n",
        "torch.manual_seed(seed)"
      ]
    },
    {
      "cell_type": "code",
      "execution_count": 22,
      "id": "4bd7dbbb",
      "metadata": {
        "id": "4bd7dbbb",
        "colab": {
          "base_uri": "https://localhost:8080/"
        },
        "outputId": "b04e76d4-5ad0-4306-afd6-9be7cba17e02"
      },
      "outputs": [
        {
          "output_type": "stream",
          "name": "stdout",
          "text": [
            "(84, 84, 4) 4\n"
          ]
        },
        {
          "output_type": "execute_result",
          "data": {
            "text/plain": [
              "<All keys matched successfully>"
            ]
          },
          "metadata": {},
          "execution_count": 22
        }
      ],
      "source": [
        "env = make_env(seed)\n",
        "state_shape = env.observation_space.shape\n",
        "n_actions = env.action_space.n\n",
        "state = env.reset()\n",
        "print(state_shape, n_actions)\n",
        "\n",
        "# agent = DQNAgent(state_shape, n_actions, epsilon=1).to(device)\n",
        "agent = DQNAgent(env, epsilon=1).to(device)\n",
        "#target_network = DQNAgent(state_shape, n_actions).to(device)\n",
        "target_network = DQNAgent(env, epsilon=1).to(device)\n",
        "target_network.load_state_dict(agent.state_dict())"
      ]
    },
    {
      "cell_type": "markdown",
      "id": "e9e1bfd9",
      "metadata": {
        "id": "e9e1bfd9"
      },
      "source": [
        "The following are the hyperparameters for the learning process. Feel free to change them as you will; although some default values are assigned to them currently.\n",
        "\n",
        "**IMPORTANT NOTE!** Since the training takes time, you may (and should!) save your model with some frequency."
      ]
    },
    {
      "cell_type": "code",
      "execution_count": 23,
      "id": "dfd35d03",
      "metadata": {
        "id": "dfd35d03"
      },
      "outputs": [],
      "source": [
        "exp_replay = ReplayBuffer(70000)\n",
        "timesteps_per_epoch = 1\n",
        "batch_size = 64\n",
        "total_steps = 3 * 10**6\n",
        "decay_steps = 10**6\n",
        "\n",
        "opt = torch.optim.Adam(agent.parameters(), lr=1e-5)\n",
        "\n",
        "init_epsilon = 1 #0.30096  #0.42945  0.49933  0.622 # 1\n",
        "final_epsilon = 0.1\n",
        "\n",
        "loss_freq = 50\n",
        "refresh_target_network_freq = 5000\n",
        "eval_freq = 5000\n",
        "\n",
        "max_grad_norm = 50\n",
        "\n",
        "n_lives = 5\n",
        "\n",
        "save_freq = 10000"
      ]
    },
    {
      "cell_type": "code",
      "execution_count": 37,
      "id": "70083ca5",
      "metadata": {
        "id": "70083ca5"
      },
      "outputs": [],
      "source": [
        "# DO NOT RERUN THIS TO MAINTAIN THE HISTORY!\n",
        "import pickle\n",
        "\n",
        "mean_rw_history = []\n",
        "td_loss_history = []\n",
        "grad_norm_history = []\n",
        "initial_state_v_history = []\n",
        "step = 0\n",
        "\n",
        "with open('/content/drive/MyDrive/Colab Notebooks/Save_Model_Hw5/mean_rw_history', \"rb\") as fp:\n",
        "  mean_rw_history = pickle.load(fp)\n",
        "with open('/content/drive/MyDrive/Colab Notebooks/Save_Model_Hw5/td_loss_history', \"rb\") as fp:\n",
        "  td_loss_history = pickle.load(fp)\n",
        "with open('/content/drive/MyDrive/Colab Notebooks/Save_Model_Hw5/grad_norm_history', \"rb\") as fp:\n",
        "  grad_norm_history = pickle.load(fp)\n",
        "with open('/content/drive/MyDrive/Colab Notebooks/Save_Model_Hw5/initial_state_v_history', \"rb\") as fp:\n",
        "  initial_state_v_history = pickle.load(fp)\n",
        "\n",
        "agent = torch.load('/content/drive/MyDrive/Colab Notebooks/Save_Model_Hw5/temporary_saved_agent.pth')"
      ]
    },
    {
      "cell_type": "code",
      "execution_count": 38,
      "id": "5a665c30",
      "metadata": {
        "id": "5a665c30",
        "colab": {
          "base_uri": "https://localhost:8080/",
          "height": 989
        },
        "outputId": "c1f2f966-b855-4e88-dc9e-3b6af5331827"
      },
      "outputs": [
        {
          "output_type": "stream",
          "name": "stdout",
          "text": [
            "buffer size = 1, epsilon = 0.30096\n"
          ]
        },
        {
          "output_type": "display_data",
          "data": {
            "image/png": "[encoded data removed]",
            "text/plain": [
              "<Figure size 1152x648 with 4 Axes>"
            ]
          },
          "metadata": {
            "needs_background": "light"
          }
        },
        {
          "output_type": "stream",
          "name": "stderr",
          "text": [
            "  0%|          | 1/3000001 [01:41<84852:19:21, 101.82s/it]/usr/local/lib/python3.7/dist-packages/ipykernel_launcher.py:57: UserWarning: To copy construct from a tensor, it is recommended to use sourceTensor.clone().detach() or sourceTensor.clone().detach().requires_grad_(True), rather than torch.tensor(sourceTensor).\n",
            "  0%|          | 316/3000001 [01:55<303:45:11,  2.74it/s]\n"
          ]
        },
        {
          "output_type": "error",
          "ename": "KeyboardInterrupt",
          "evalue": "ignored",
          "traceback": [
            "\u001b[0;31m---------------------------------------------------------------------------\u001b[0m",
            "\u001b[0;31mKeyboardInterrupt\u001b[0m                         Traceback (most recent call last)",
            "\u001b[0;32m<ipython-input-38-c6f69841e830>\u001b[0m in \u001b[0;36m<module>\u001b[0;34m()\u001b[0m\n\u001b[1;32m     21\u001b[0m     \u001b[0;31m##################################################################\u001b[0m\u001b[0;34m\u001b[0m\u001b[0;34m\u001b[0m\u001b[0;34m\u001b[0m\u001b[0m\n\u001b[1;32m     22\u001b[0m     \u001b[0;31m# TODO: sample batch_size of data from experience replay>\u001b[0m\u001b[0;34m\u001b[0m\u001b[0;34m\u001b[0m\u001b[0;34m\u001b[0m\u001b[0m\n\u001b[0;32m---> 23\u001b[0;31m     \u001b[0msampleFromExperienceReplay\u001b[0m \u001b[0;34m=\u001b[0m \u001b[0mexp_replay\u001b[0m\u001b[0;34m.\u001b[0m\u001b[0msample\u001b[0m\u001b[0;34m(\u001b[0m\u001b[0mbatch_size\u001b[0m\u001b[0;34m)\u001b[0m\u001b[0;34m\u001b[0m\u001b[0;34m\u001b[0m\u001b[0m\n\u001b[0m\u001b[1;32m     24\u001b[0m     \u001b[0mcurrent_states\u001b[0m\u001b[0;34m,\u001b[0m \u001b[0mactions\u001b[0m\u001b[0;34m,\u001b[0m \u001b[0mrewards\u001b[0m\u001b[0;34m,\u001b[0m \u001b[0mnext_state\u001b[0m\u001b[0;34m,\u001b[0m \u001b[0mis_done_s\u001b[0m \u001b[0;34m=\u001b[0m \u001b[0msampleFromExperienceReplay\u001b[0m\u001b[0;34m\u001b[0m\u001b[0;34m\u001b[0m\u001b[0m\n\u001b[1;32m     25\u001b[0m     \u001b[0mopt\u001b[0m\u001b[0;34m.\u001b[0m\u001b[0mzero_grad\u001b[0m\u001b[0;34m(\u001b[0m\u001b[0;34m)\u001b[0m\u001b[0;34m\u001b[0m\u001b[0;34m\u001b[0m\u001b[0m\n",
            "\u001b[0;32m<ipython-input-15-4427737db677>\u001b[0m in \u001b[0;36msample\u001b[0;34m(self, batch_size)\u001b[0m\n\u001b[1;32m     73\u001b[0m             \u001b[0;32mfor\u001b[0m \u001b[0m_\u001b[0m \u001b[0;32min\u001b[0m \u001b[0mrange\u001b[0m\u001b[0;34m(\u001b[0m\u001b[0mbatch_size\u001b[0m\u001b[0;34m)\u001b[0m\u001b[0;34m\u001b[0m\u001b[0;34m\u001b[0m\u001b[0m\n\u001b[1;32m     74\u001b[0m         ]\n\u001b[0;32m---> 75\u001b[0;31m         \u001b[0;32mreturn\u001b[0m \u001b[0mself\u001b[0m\u001b[0;34m.\u001b[0m\u001b[0m_encode_sample\u001b[0m\u001b[0;34m(\u001b[0m\u001b[0midxes\u001b[0m\u001b[0;34m)\u001b[0m\u001b[0;34m\u001b[0m\u001b[0;34m\u001b[0m\u001b[0m\n\u001b[0m",
            "\u001b[0;32m<ipython-input-15-4427737db677>\u001b[0m in \u001b[0;36m_encode_sample\u001b[0;34m(self, idxes)\u001b[0m\n\u001b[1;32m     45\u001b[0m             \u001b[0mnp\u001b[0m\u001b[0;34m.\u001b[0m\u001b[0marray\u001b[0m\u001b[0;34m(\u001b[0m\u001b[0mactions\u001b[0m\u001b[0;34m)\u001b[0m\u001b[0;34m,\u001b[0m\u001b[0;34m\u001b[0m\u001b[0;34m\u001b[0m\u001b[0m\n\u001b[1;32m     46\u001b[0m             \u001b[0mnp\u001b[0m\u001b[0;34m.\u001b[0m\u001b[0marray\u001b[0m\u001b[0;34m(\u001b[0m\u001b[0mrewards\u001b[0m\u001b[0;34m)\u001b[0m\u001b[0;34m,\u001b[0m\u001b[0;34m\u001b[0m\u001b[0;34m\u001b[0m\u001b[0m\n\u001b[0;32m---> 47\u001b[0;31m             \u001b[0mnp\u001b[0m\u001b[0;34m.\u001b[0m\u001b[0marray\u001b[0m\u001b[0;34m(\u001b[0m\u001b[0mobses_tp1\u001b[0m\u001b[0;34m)\u001b[0m\u001b[0;34m,\u001b[0m\u001b[0;34m\u001b[0m\u001b[0;34m\u001b[0m\u001b[0m\n\u001b[0m\u001b[1;32m     48\u001b[0m             \u001b[0mnp\u001b[0m\u001b[0;34m.\u001b[0m\u001b[0marray\u001b[0m\u001b[0;34m(\u001b[0m\u001b[0mdones\u001b[0m\u001b[0;34m)\u001b[0m\u001b[0;34m\u001b[0m\u001b[0;34m\u001b[0m\u001b[0m\n\u001b[1;32m     49\u001b[0m         )\n",
            "\u001b[0;31mKeyboardInterrupt\u001b[0m: "
          ]
        }
      ],
      "source": [
        "import utils\n",
        "from tqdm import trange \n",
        "\n",
        "state = env.reset()\n",
        "for step in trange(step, total_steps + 1):\n",
        "    if not utils.is_enough_ram():\n",
        "        print('less that 100 Mb RAM available, freezing')\n",
        "        print('make sure everythin is ok and make KeyboardInterrupt to continue')\n",
        "        try:\n",
        "            while True:\n",
        "                pass\n",
        "        except KeyboardInterrupt:\n",
        "            pass\n",
        "\n",
        "    agent.epsilon = utils.linear_decay(init_epsilon, final_epsilon, step, decay_steps)\n",
        "\n",
        "    # play\n",
        "    _, state = play_and_record(state, agent, env, exp_replay, timesteps_per_epoch)\n",
        "\n",
        "    # train\n",
        "    ##################################################################\n",
        "    # TODO: sample batch_size of data from experience replay>\n",
        "    sampleFromExperienceReplay = exp_replay.sample(batch_size)\n",
        "    current_states, actions, rewards, next_state, is_done_s = sampleFromExperienceReplay\n",
        "    opt.zero_grad()\n",
        "    loss = compute_td_loss(current_states, actions, rewards, next_state, is_done_s,\n",
        "                           agent, target_network)\n",
        "    # TODO: compute TD loss\n",
        "    ##################################################################\n",
        "    loss.backward()\n",
        "    grad_norm = nn.utils.clip_grad_norm_(agent.parameters(), max_grad_norm)\n",
        "    opt.step()\n",
        "    opt.zero_grad()\n",
        "    \n",
        "    if (step + 1) % save_freq == 0:\n",
        "        torch.save(agent, 'saved-models/temporary_saved_agent.pth')\n",
        "        torch.save(agent, '/content/drive/MyDrive/Colab Notebooks/Save_Model_Hw5/temporary_saved_agent.pth')\n",
        "        with open('saved-models/mean_rw_history', \"wb\") as fp:\n",
        "          pickle.dump(mean_rw_history, fp)\n",
        "        with open('/content/drive/MyDrive/Colab Notebooks/Save_Model_Hw5/mean_rw_history', \"wb\") as fp:\n",
        "          pickle.dump(mean_rw_history, fp)\n",
        "        with open('saved-models/td_loss_history', \"wb\") as fp:\n",
        "          pickle.dump(td_loss_history, fp)\n",
        "        with open('/content/drive/MyDrive/Colab Notebooks/Save_Model_Hw5/td_loss_history', \"wb\") as fp:\n",
        "          pickle.dump(td_loss_history, fp)\n",
        "        with open('saved-models/grad_norm_history', \"wb\") as fp:\n",
        "          pickle.dump(grad_norm_history, fp)\n",
        "        with open('/content/drive/MyDrive/Colab Notebooks/Save_Model_Hw5/grad_norm_history', \"wb\") as fp:\n",
        "          pickle.dump(grad_norm_history, fp)\n",
        "        with open('saved-models/initial_state_v_history', \"wb\") as fp:\n",
        "          pickle.dump(initial_state_v_history, fp)\n",
        "        with open('/content/drive/MyDrive/Colab Notebooks/Save_Model_Hw5/initial_state_v_history', \"wb\") as fp:\n",
        "          pickle.dump(initial_state_v_history, fp)\n",
        "        \n",
        "    if step % loss_freq == 0:\n",
        "        td_loss_history.append(loss.data.cpu().item())\n",
        "        grad_norm_history.append(grad_norm)\n",
        "\n",
        "    if step % refresh_target_network_freq == 0:\n",
        "        # Load agent weights into target_network\n",
        "        # TODO\n",
        "        #<YOUR CODE>\n",
        "        ##################################################################\n",
        "        target_network.load_state_dict(agent.state_dict())\n",
        "        ##################################################################\n",
        "\n",
        "    if step % eval_freq == 0:\n",
        "        mean_rw_history.append(evaluate(\n",
        "            make_env(clip_rewards=True, seed=step), agent, n_games=3 * n_lives, greedy=True)\n",
        "        )\n",
        "        initial_state_q_values = agent.get_qvalues(\n",
        "            [make_env(seed=step).reset()]\n",
        "        )\n",
        "        initial_state_v_history.append(np.max(initial_state_q_values))\n",
        "\n",
        "        clear_output(True)\n",
        "        print(\"buffer size = %i, epsilon = %.5f\" %\n",
        "              (len(exp_replay), agent.epsilon))\n",
        "\n",
        "        plt.figure(figsize=[16, 9])\n",
        "\n",
        "        plt.subplot(2, 2, 1)\n",
        "        plt.title(\"Mean reward per life\")\n",
        "        plt.plot(mean_rw_history)\n",
        "        plt.grid()\n",
        "\n",
        "        assert not np.isnan(td_loss_history[-1])\n",
        "        plt.subplot(2, 2, 2)\n",
        "        plt.title(\"TD loss history (smoothened)\")\n",
        "        plt.plot(utils.smoothen(td_loss_history))\n",
        "        plt.grid()\n",
        "\n",
        "        plt.subplot(2, 2, 3)\n",
        "        plt.title(\"Initial state V\")\n",
        "        plt.plot(initial_state_v_history)\n",
        "        plt.grid()\n",
        "\n",
        "        plt.subplot(2, 2, 4)\n",
        "        plt.title(\"Grad norm history (smoothened)\")\n",
        "        plt.plot(utils.smoothen(grad_norm_history))\n",
        "        plt.grid()\n",
        "\n",
        "        plt.show()"
      ]
    },
    {
      "cell_type": "code",
      "source": [
        "import utils\n",
        "from tqdm import trange \n",
        "\n",
        "plt.figure(figsize=[16, 9])\n",
        "\n",
        "plt.subplot(2, 2, 1)\n",
        "plt.title(\"Mean reward per life\")\n",
        "plt.plot(mean_rw_history)\n",
        "plt.grid()\n",
        "\n",
        "assert not np.isnan(td_loss_history[-1])\n",
        "plt.subplot(2, 2, 2)\n",
        "plt.title(\"TD loss history (smoothened)\")\n",
        "plt.plot(utils.smoothen(td_loss_history))\n",
        "plt.grid()\n",
        "\n",
        "plt.subplot(2, 2, 3)\n",
        "plt.title(\"Initial state V\")\n",
        "plt.plot(initial_state_v_history)\n",
        "plt.grid()\n",
        "\n",
        "plt.subplot(2, 2, 4)\n",
        "plt.title(\"Grad norm history (smoothened)\")\n",
        "plt.plot(utils.smoothen(grad_norm_history))\n",
        "plt.grid()\n",
        "\n",
        "plt.show()"
      ],
      "metadata": {
        "colab": {
          "base_uri": "https://localhost:8080/",
          "height": 553
        },
        "id": "6dPMp2Eor0s9",
        "outputId": "2ea6e6f7-fbce-4230-8719-422d2905ffe3"
      },
      "id": "6dPMp2Eor0s9",
      "execution_count": 39,
      "outputs": [
        {
          "output_type": "display_data",
          "data": {
            "image/png": "[encoded data removed]",
            "text/plain": [
              "<Figure size 1152x648 with 4 Axes>"
            ]
          },
          "metadata": {
            "needs_background": "light"
          }
        }
      ]
    },
    {
      "cell_type": "markdown",
      "id": "447b8d8d",
      "metadata": {
        "id": "447b8d8d"
      },
      "source": [
        "## How to interpret plots:\n",
        "\n",
        "This aint no supervised learning so don't expect anything to improve monotonously. \n",
        "* **TD loss** is the MSE between agent's current Q-values and target Q-values. It may slowly increase or decrease, it's ok. The \"not ok\" behavior includes going NaN or stayng at exactly zero before agent has perfect performance.\n",
        "* **grad norm** just shows the intensivity of training. Not ok is growing to values of about 100 (or maybe even 50) though it depends on network architecture.\n",
        "* **mean reward** is the expected sum of r(s,a) agent gets over the full game session. It will oscillate, but on average it should get higher over time (after a few thousand iterations...). \n",
        " * In basic q-learning implementation it takes about 40k steps to \"warm up\" agent before it starts to get better.\n",
        "* **Initial state V** is the expected discounted reward for episode in the oppinion of the agent. It should behave more smoothly than **mean reward**. It should get higher over time but sometimes can experience drawdowns because of the agaent's overestimates.\n",
        "* **buffer size** - this one is simple. It should go up and cap at max size.\n",
        "* **epsilon** - agent's willingness to explore. If you see that agent's already at 0.01 epsilon before it's average reward is above 0 - it means you need to increase epsilon. Set it back to some 0.2 - 0.5 and decrease the pace at which it goes down.\n",
        "* Smoothing of plots is done with a gaussian kernel\n",
        "\n",
        "At first your agent will lose quickly. Then it will learn to suck less and at least hit the ball a few times before it loses. Finally it will learn to actually score points.\n",
        "\n",
        "**Training will take time.** A lot of it actually. Probably you will not see any improvment during first **150k** time steps (note that by default in this notebook agent is evaluated every 5000 time steps)."
      ]
    },
    {
      "cell_type": "markdown",
      "id": "23c703d0",
      "metadata": {
        "id": "23c703d0"
      },
      "source": [
        "## See how the model works and Assignment Submission\n",
        "\n",
        "To submit the assignment, you can submit a zip file containing the filled up files and notebook. You should make sure to have the following items checked:\n",
        "* Each of the blocks provided should run without error.\n",
        "* Run the training and save your model in `saved-models/<STD_ID>_DQN_<ENV_NAME>.pth` format and upload it alongside the assignment.\n",
        "* The history of your plots **from the first epoch until the end**. \n",
        "* You should also save your output as a gif `<STD_ID>_DQN_<ENV_NAME>.gif` and upload it alongside your files. This gif file contains the performance of your model during a complete round of the chosen game."
      ]
    },
    {
      "cell_type": "code",
      "execution_count": null,
      "id": "847f5884",
      "metadata": {
        "id": "847f5884"
      },
      "outputs": [],
      "source": [
        "# Note that you can change the arguments and parameteres of these following functions as you want,\n",
        "# but your functions must work in the described procedure.\n",
        "\n",
        "from array2gif import write_gif\n",
        "\n",
        "def load_model(PATH):\n",
        "    # This function takes the path of saved model as the input, and outputs the loaded model\n",
        "    Final_agent = torch.load(PATH)\n",
        "    # agent = torch.load('/content/drive/MyDrive/Colab Notebooks/Save_Model_Hw5/temporary_saved_agent.pth')\n",
        "    return Final_agent\n",
        "\n",
        "def generate_gif(model, PATH):\n",
        "    # This funcition evaluate a model during a complete round of the chosen game,\n",
        "    # and saves the gif containing the whole steps of the game in <PATH>\n",
        "    counter = 0\n",
        "    s = env.reset()\n",
        "    total_reward = 0\n",
        "    t_max=10000\n",
        "    final_video = []\n",
        "    while True:\n",
        "        counter += 1\n",
        "        qvalues = model.get_qvalues(torch.tensor([s], dtype=torch.float32))\n",
        "        a = model.sample_actions(qvalues, epsilon=0)[0]\n",
        "        next_s, r, done, _ = env.step(a)\n",
        "        total_reward += r\n",
        "        s = next_s\n",
        "        if done:\n",
        "            break\n",
        "        \n",
        "        if counter % 2 == 0:\n",
        "              screen = env.render(mode='rgb_array')\n",
        "              final_video.append(screen)\n",
        "\n",
        "    print(total_reward)\n",
        "    if total_reward>9:\n",
        "        write_gif(final_video, '97101489_DQN_BreakoutNoFrameskip-v4.gif', fps=60)\n",
        "\n",
        "\n",
        "generate_gif(load_model('/content/drive/MyDrive/Colab Notebooks/Save_Model_Hw5/temporary_saved_agent.pth'), 'final_performance.gif')\n"
      ]
    }
  ],
  "metadata": {
    "colab": {
      "collapsed_sections": [
        "68003dd5",
        "447b8d8d"
      ],
      "name": "Atari_DQN.ipynb",
      "provenance": []
    },
    "kernelspec": {
      "display_name": "Python 3 (ipykernel)",
      "language": "python",
      "name": "python3"
    },
    "language_info": {
      "codemirror_mode": {
        "name": "ipython",
        "version": 3
      },
      "file_extension": ".py",
      "mimetype": "text/x-python",
      "name": "python",
      "nbconvert_exporter": "python",
      "pygments_lexer": "ipython3",
      "version": "3.8.10"
    },
    "accelerator": "GPU"
  },
  "nbformat": 4,
  "nbformat_minor": 5
}